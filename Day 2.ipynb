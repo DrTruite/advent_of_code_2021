{
 "cells": [
  {
   "cell_type": "markdown",
   "id": "d3d35872",
   "metadata": {},
   "source": [
    "# Day 2"
   ]
  },
  {
   "cell_type": "markdown",
   "id": "e118804d",
   "metadata": {},
   "source": [
    "## Part 1"
   ]
  },
  {
   "cell_type": "code",
   "execution_count": 9,
   "id": "1caa4c76",
   "metadata": {},
   "outputs": [
    {
     "name": "stdout",
     "output_type": "stream",
     "text": [
      "{'horizontal': 1967, 'depth': 1031}\n",
      "2027977\n"
     ]
    }
   ],
   "source": [
    "comm_list = []\n",
    "with open(\"inputs/day2.txt\") as input_file:\n",
    "    comm_list = [comm.split() for comm in input_file.read().splitlines()]\n",
    "\n",
    "submarine_pos = {\"horizontal\": 0,\n",
    "               \"depth\": 0}\n",
    "\n",
    "for comm in comm_list:\n",
    "    if comm[0] == \"forward\":\n",
    "        submarine_pos[\"horizontal\"] += int(comm[1])\n",
    "    elif comm[0] == \"up\":\n",
    "        submarine_pos[\"depth\"] -= int(comm[1])\n",
    "    elif comm[0] == \"down\":\n",
    "        submarine_pos[\"depth\"] += int(comm[1])\n",
    "\n",
    "print(submarine_pos)\n",
    "print(submarine_pos[\"horizontal\"] * submarine_pos[\"depth\"])"
   ]
  },
  {
   "cell_type": "markdown",
   "id": "e22a3278",
   "metadata": {},
   "source": [
    "## Part 2"
   ]
  },
  {
   "cell_type": "code",
   "execution_count": 12,
   "id": "cbdd6b4f",
   "metadata": {},
   "outputs": [
    {
     "name": "stdout",
     "output_type": "stream",
     "text": [
      "{'horizontal': 1967, 'depth': 967791, 'aim': 1031}\n",
      "1903644897\n"
     ]
    }
   ],
   "source": [
    "aimed_submarine_pos = {\"horizontal\": 0,\n",
    "                       \"depth\": 0,\n",
    "                      \"aim\": 0}\n",
    "\n",
    "for comm in comm_list:\n",
    "    if comm[0] == \"forward\":\n",
    "        aimed_submarine_pos[\"horizontal\"] += int(comm[1])\n",
    "        aimed_submarine_pos[\"depth\"] += int(comm[1]) * aimed_submarine_pos[\"aim\"]\n",
    "    elif comm[0] == \"up\":\n",
    "        aimed_submarine_pos[\"aim\"] -= int(comm[1])\n",
    "    elif comm[0] == \"down\":\n",
    "        aimed_submarine_pos[\"aim\"] += int(comm[1])\n",
    "\n",
    "print(aimed_submarine_pos)\n",
    "print(aimed_submarine_pos[\"horizontal\"] * aimed_submarine_pos[\"depth\"])"
   ]
  }
 ],
 "metadata": {
  "kernelspec": {
   "display_name": "Python 3 (ipykernel)",
   "language": "python",
   "name": "python3"
  },
  "language_info": {
   "codemirror_mode": {
    "name": "ipython",
    "version": 3
   },
   "file_extension": ".py",
   "mimetype": "text/x-python",
   "name": "python",
   "nbconvert_exporter": "python",
   "pygments_lexer": "ipython3",
   "version": "3.9.7"
  }
 },
 "nbformat": 4,
 "nbformat_minor": 5
}
