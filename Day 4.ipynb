{
 "cells": [
  {
   "cell_type": "markdown",
   "id": "35c946e4",
   "metadata": {},
   "source": [
    "# Day 4"
   ]
  },
  {
   "cell_type": "markdown",
   "id": "412f8d3a",
   "metadata": {},
   "source": [
    "## Part 1"
   ]
  },
  {
   "cell_type": "code",
   "execution_count": 162,
   "id": "cb1a3541",
   "metadata": {},
   "outputs": [],
   "source": [
    "import pandas as pd\n",
    "from copy import deepcopy"
   ]
  },
  {
   "cell_type": "code",
   "execution_count": 159,
   "id": "dab64226",
   "metadata": {},
   "outputs": [],
   "source": [
    "# Function that checks if a card is winning\n",
    "def check_card_is_winning(card, nums):\n",
    "    bool_card = card.isin(nums)\n",
    "    result_df = pd.DataFrame({\"columns\": bool_card.all(axis=0), \n",
    "                              \"rows\": bool_card.all(axis=1)})\n",
    "    return result_df.any().any()\n",
    "\n",
    "# Function that calculate the score of the winning card\n",
    "def card_calc_score(card, nums):\n",
    "    bool_card = card.isin(nums)\n",
    "    bool_card = bool_card.astype(int)\n",
    "    bool_card = bool_card.applymap(lambda x: 1 if x == 0 else 0)\n",
    "\n",
    "    return (bool_card * card).sum().sum()"
   ]
  },
  {
   "cell_type": "code",
   "execution_count": 89,
   "id": "e888884d",
   "metadata": {},
   "outputs": [],
   "source": [
    "# Load the inputs\n",
    "input_list = []\n",
    "with open(\"inputs/day4.txt\") as input_file:\n",
    "    input_list = [x for x in input_file.read().splitlines()]\n",
    "\n",
    "# Separate the draw order (first line) and the bingo cards\n",
    "numbers_list = list(map(int, input_list[0].split(\",\")))\n",
    "bingo_lines = [list(map(int, x.split())) for x in input_list[1:]]"
   ]
  },
  {
   "cell_type": "code",
   "execution_count": 90,
   "id": "80cf706d",
   "metadata": {},
   "outputs": [],
   "source": [
    "# Format the bingo cards as a list of list\n",
    "bingo_cards = []\n",
    "for line in bingo_lines:\n",
    "    if len(line) == 0:\n",
    "        bingo_cards.append(line)\n",
    "    else:\n",
    "        bingo_cards[len(bingo_cards)-1].append(line)\n",
    "\n",
    "# Format the bingo cards as a list of Pandas DataFrames\n",
    "for i in range(len(bingo_cards)):\n",
    "    bingo_cards[i] = pd.DataFrame(bingo_cards[i])"
   ]
  },
  {
   "cell_type": "code",
   "execution_count": 157,
   "id": "ddb9aea1",
   "metadata": {},
   "outputs": [
    {
     "name": "stdout",
     "output_type": "stream",
     "text": [
      "Winning bingo card :\n",
      "     0   1   2   3   4\n",
      "0  99  19  74   0   9\n",
      "1  59  92  67  82  69\n",
      "2  72  46  63  51  77\n",
      "3   2  45  66  28  12\n",
      "4  93  38  15  64  27\n",
      "Winning number : 66\n"
     ]
    }
   ],
   "source": [
    "# Find the winning card and the winning number\n",
    "number_drawned = []\n",
    "winning_card = 0\n",
    "winning_number = 0\n",
    "for num in numbers_list:\n",
    "    number_drawned.append(num)\n",
    "    for card in bingo_cards:\n",
    "        if check_card_is_winning(card, number_drawned):\n",
    "            winning_card = card\n",
    "            winning_number = num\n",
    "            break\n",
    "    if winning_number != 0:\n",
    "        break\n",
    "\n",
    "print(\"Winning bingo card :\\n\", winning_card)\n",
    "print(\"Winning number :\", winning_number)"
   ]
  },
  {
   "cell_type": "code",
   "execution_count": 160,
   "id": "6a00b7dc",
   "metadata": {},
   "outputs": [
    {
     "name": "stdout",
     "output_type": "stream",
     "text": [
      "Winning score : 44088\n"
     ]
    }
   ],
   "source": [
    "print(\"Winning score :\", card_calc_score(winning_card, number_drawned) * winning_number)"
   ]
  },
  {
   "cell_type": "markdown",
   "id": "211f1245",
   "metadata": {},
   "source": [
    "## Part 2"
   ]
  },
  {
   "cell_type": "code",
   "execution_count": 173,
   "id": "df749176",
   "metadata": {},
   "outputs": [
    {
     "name": "stdout",
     "output_type": "stream",
     "text": [
      "Losing card :\n",
      "     0   1   2   3   4\n",
      "0   3  13  58  50  17\n",
      "1   4  78  69  16  38\n",
      "2  91   2  23  21  51\n",
      "3  49  79  31  97  90\n",
      "4  37  46  12  80  28\n"
     ]
    }
   ],
   "source": [
    "# Find the losing card\n",
    "\n",
    "bingo_cards_copy = deepcopy(bingo_cards)\n",
    "\n",
    "number_to_draw = 0\n",
    "number_drawned = []\n",
    "while len(bingo_cards_copy) > 1:\n",
    "    number_drawned.append(numbers_list[number_to_draw])\n",
    "    \n",
    "    new_bingo_card_list = []\n",
    "    \n",
    "    for card in bingo_cards_copy:\n",
    "        if not check_card_is_winning(card, number_drawned):\n",
    "            new_bingo_card_list.append(card)\n",
    "    \n",
    "    bingo_cards_copy = new_bingo_card_list\n",
    "    \n",
    "    number_to_draw += 1\n",
    "\n",
    "losing_card = bingo_cards_copy[0]\n",
    "print(\"Losing card :\\n\", losing_card)"
   ]
  },
  {
   "cell_type": "code",
   "execution_count": 174,
   "id": "121a2f26",
   "metadata": {},
   "outputs": [
    {
     "name": "stdout",
     "output_type": "stream",
     "text": [
      "Winning number for the losing card : 90\n"
     ]
    }
   ],
   "source": [
    "# Find the winning number for the losing card\n",
    "losing_number = 0\n",
    "number_drawned = []\n",
    "for num in numbers_list:\n",
    "    number_drawned.append(num)\n",
    "    if check_card_is_winning(losing_card, number_drawned):\n",
    "        losing_number = num\n",
    "        break\n",
    "print(\"Winning number for the losing card :\", losing_number)"
   ]
  },
  {
   "cell_type": "code",
   "execution_count": 175,
   "id": "9d9a3b2b",
   "metadata": {},
   "outputs": [
    {
     "name": "stdout",
     "output_type": "stream",
     "text": [
      "Winning score : 23670\n"
     ]
    }
   ],
   "source": [
    "# Find the score for the losing card\n",
    "print(\"Winning score :\", card_calc_score(losing_card, number_drawned) * losing_number)"
   ]
  }
 ],
 "metadata": {
  "kernelspec": {
   "display_name": "Python 3 (ipykernel)",
   "language": "python",
   "name": "python3"
  },
  "language_info": {
   "codemirror_mode": {
    "name": "ipython",
    "version": 3
   },
   "file_extension": ".py",
   "mimetype": "text/x-python",
   "name": "python",
   "nbconvert_exporter": "python",
   "pygments_lexer": "ipython3",
   "version": "3.9.7"
  }
 },
 "nbformat": 4,
 "nbformat_minor": 5
}
