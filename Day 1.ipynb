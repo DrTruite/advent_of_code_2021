{
 "cells": [
  {
   "cell_type": "markdown",
   "id": "661acc55",
   "metadata": {},
   "source": [
    "# Day 1"
   ]
  },
  {
   "cell_type": "markdown",
   "id": "a56c9425",
   "metadata": {},
   "source": [
    "## Part 1"
   ]
  },
  {
   "cell_type": "code",
   "execution_count": 10,
   "id": "84bdbeca",
   "metadata": {},
   "outputs": [
    {
     "name": "stdout",
     "output_type": "stream",
     "text": [
      "1342\n"
     ]
    }
   ],
   "source": [
    "depth_list = []\n",
    "with open(\"inputs/day1.txt\") as input_file:\n",
    "    depth_list = [int(x) for x in input_file.read().splitlines()]\n",
    "\n",
    "depth_increases = 0\n",
    "for i in range(1, len(depth_list)):\n",
    "    if depth_list[i-1] < depth_list[i]:\n",
    "        depth_increases += 1\n",
    "\n",
    "print(depth_increases)"
   ]
  },
  {
   "cell_type": "markdown",
   "id": "aa17d796",
   "metadata": {},
   "source": [
    "## Part 2"
   ]
  },
  {
   "cell_type": "code",
   "execution_count": 14,
   "id": "d8546883",
   "metadata": {},
   "outputs": [
    {
     "name": "stdout",
     "output_type": "stream",
     "text": [
      "1378\n"
     ]
    }
   ],
   "source": [
    "measures_b3 = []\n",
    "for i in range(len(depth_list[:-2])):\n",
    "    measures_b3.append( depth_list[i] + depth_list[i+1] + depth_list[i+2])\n",
    "\n",
    "depth_inceases_b3 = 0\n",
    "for i in range(1, len(measures_b3)):\n",
    "    if measures_b3[i-1] < measures_b3[i]:\n",
    "        depth_inceases_b3 += 1\n",
    "\n",
    "print(depth_inceases_b3)"
   ]
  }
 ],
 "metadata": {
  "kernelspec": {
   "display_name": "Python 3 (ipykernel)",
   "language": "python",
   "name": "python3"
  },
  "language_info": {
   "codemirror_mode": {
    "name": "ipython",
    "version": 3
   },
   "file_extension": ".py",
   "mimetype": "text/x-python",
   "name": "python",
   "nbconvert_exporter": "python",
   "pygments_lexer": "ipython3",
   "version": "3.9.7"
  }
 },
 "nbformat": 4,
 "nbformat_minor": 5
}
