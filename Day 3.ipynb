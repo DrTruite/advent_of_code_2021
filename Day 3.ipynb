{
 "cells": [
  {
   "cell_type": "markdown",
   "id": "253981af",
   "metadata": {},
   "source": [
    "# Day 3"
   ]
  },
  {
   "cell_type": "markdown",
   "id": "3bc8a254",
   "metadata": {},
   "source": [
    "## Part 1"
   ]
  },
  {
   "cell_type": "code",
   "execution_count": 15,
   "id": "19bfec4e",
   "metadata": {},
   "outputs": [
    {
     "name": "stdout",
     "output_type": "stream",
     "text": [
      "3022\n",
      "1073\n",
      "3242606\n"
     ]
    }
   ],
   "source": [
    "# Opens the input file\n",
    "bit_list = []\n",
    "with open(\"inputs/day3.txt\") as input_file:\n",
    "    bit_list = input_file.read().splitlines()\n",
    "\n",
    "# Initialise the result variables\n",
    "gamma_rate = \"\"\n",
    "epsilon_rate = \"\"\n",
    "\n",
    "\n",
    "# Build the gamma rate string\n",
    "# Loop over all the bits in each input\n",
    "for i in range(len(bit_list[0])):\n",
    "    gamma_bit = [0, 0]\n",
    "    # Loop over all the inputs\n",
    "    for j in range(len(bit_list)):\n",
    "        gamma_bit[int(bit_list[j][i])] += 1\n",
    "    if gamma_bit[0] > gamma_bit[1]:\n",
    "        gamma_rate += \"0\"\n",
    "    else:\n",
    "        gamma_rate += \"1\"\n",
    "\n",
    "# Build the epsylon rate string from the gamma rate string\n",
    "for bit in gamma_rate:\n",
    "    if bit == \"0\": \n",
    "        epsilon_rate += \"1\"\n",
    "    else:\n",
    "        epsilon_rate += \"0\"\n",
    "\n",
    "# Print the results\n",
    "print(int(gamma_rate, 2))\n",
    "print(int(epsilon_rate, 2))\n",
    "print(int(gamma_rate, 2) * int(epsilon_rate, 2))"
   ]
  },
  {
   "cell_type": "markdown",
   "id": "f0116b12",
   "metadata": {},
   "source": [
    "## Part 2"
   ]
  },
  {
   "cell_type": "code",
   "execution_count": 69,
   "id": "8458d991",
   "metadata": {},
   "outputs": [],
   "source": [
    "def bit_filter(bit_list, bit_pos, bit_value):\n",
    "    if bit_list[bit_pos] == bit_value:\n",
    "        return True\n",
    "    else:\n",
    "        return False\n",
    "\n",
    "def most_least_common_bit(value_list, bit_pos, is_max):\n",
    "    bits = [0, 0]\n",
    "    for value in value_list:\n",
    "        bits[int(value[bit_pos])] += 1\n",
    "    \n",
    "    if is_max:\n",
    "        if bits[0] == bits[1]:\n",
    "            return 1\n",
    "        elif bits[0] > bits[1]:\n",
    "            return 0\n",
    "        else:\n",
    "            return 1\n",
    "    else:\n",
    "        if bits[0] == bits[1]:\n",
    "            return 0\n",
    "        elif bits[0] < bits[1]:\n",
    "            return 0\n",
    "        else:\n",
    "            return 1"
   ]
  },
  {
   "cell_type": "code",
   "execution_count": 70,
   "id": "60812ccc",
   "metadata": {},
   "outputs": [
    {
     "name": "stdout",
     "output_type": "stream",
     "text": [
      "Oxygen generator rating : 3005\n",
      "CO2 scrubber rating : 1616\n",
      "Life support rating :  4856080\n"
     ]
    }
   ],
   "source": [
    "from copy import deepcopy\n",
    "\n",
    "# Get the oxygen generator rating\n",
    "o2_list = deepcopy(bit_list)\n",
    "bit_pos = 0\n",
    "while len(o2_list) > 1:\n",
    "    # Most common bit for the bit position\n",
    "    most_com_bit = most_least_common_bit(o2_list, bit_pos, True)\n",
    "    # Filter o2_list for selected bits\n",
    "    temp_o2_list = [value for value in o2_list if bit_filter(value, bit_pos, str(most_com_bit))]\n",
    "    # Iterate\n",
    "    bit_pos += 1\n",
    "    o2_list = temp_o2_list\n",
    "print(\"Oxygen generator rating :\", int(o2_list[0], 2))\n",
    "\n",
    "# Get the CO2 scrubber rating\n",
    "co2_list = deepcopy(bit_list)\n",
    "bit_pos = 0\n",
    "while len(co2_list) > 1:\n",
    "    # Most common bit for the bit position\n",
    "    most_com_bit = most_least_common_bit(co2_list, bit_pos, False)\n",
    "    # Filter co2_list for selected bits\n",
    "    temp_co2_list = [value for value in co2_list if bit_filter(value, bit_pos, str(most_com_bit))]\n",
    "    # Iterate\n",
    "    bit_pos += 1\n",
    "    co2_list = temp_co2_list\n",
    "print(\"CO2 scrubber rating :\", int(co2_list[0], 2))\n",
    "\n",
    "# Print the life support rating\n",
    "print(\"Life support rating : \", int(o2_list[0], 2) * int(co2_list[0], 2))"
   ]
  }
 ],
 "metadata": {
  "kernelspec": {
   "display_name": "Python 3 (ipykernel)",
   "language": "python",
   "name": "python3"
  },
  "language_info": {
   "codemirror_mode": {
    "name": "ipython",
    "version": 3
   },
   "file_extension": ".py",
   "mimetype": "text/x-python",
   "name": "python",
   "nbconvert_exporter": "python",
   "pygments_lexer": "ipython3",
   "version": "3.9.7"
  }
 },
 "nbformat": 4,
 "nbformat_minor": 5
}
