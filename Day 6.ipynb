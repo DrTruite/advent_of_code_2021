{
 "cells": [
  {
   "cell_type": "markdown",
   "metadata": {},
   "source": [
    "# Day 6"
   ]
  },
  {
   "cell_type": "markdown",
   "metadata": {},
   "source": [
    "## Part 1"
   ]
  },
  {
   "cell_type": "code",
   "execution_count": 23,
   "metadata": {},
   "outputs": [],
   "source": [
    "from copy import deepcopy"
   ]
  },
  {
   "cell_type": "code",
   "execution_count": 24,
   "metadata": {},
   "outputs": [
    {
     "name": "stdout",
     "output_type": "stream",
     "text": [
      "[3, 3, 2, 1, 4, 1, 1, 2, 3, 1, 1, 2, 1, 2, 1, 1, 1, 1, 1, 1, 4, 1, 1, 5, 2, 1, 1, 2, 1, 1, 1, 3, 5, 1, 5, 5, 1, 1, 1, 1, 3, 1, 1, 3, 2, 1, 1, 1, 1, 1, 1, 4, 1, 1, 1, 1, 1, 1, 1, 4, 1, 3, 3, 1, 1, 3, 1, 3, 1, 2, 1, 3, 1, 1, 4, 1, 2, 4, 4, 5, 1, 1, 1, 1, 1, 1, 4, 1, 5, 1, 1, 5, 1, 1, 3, 3, 1, 3, 2, 5, 2, 4, 1, 4, 1, 2, 4, 5, 1, 1, 5, 1, 1, 1, 4, 1, 1, 5, 2, 1, 1, 5, 1, 1, 1, 5, 1, 1, 1, 1, 1, 3, 1, 5, 3, 2, 1, 1, 2, 2, 1, 2, 1, 1, 5, 1, 1, 4, 5, 1, 4, 3, 1, 1, 1, 1, 1, 1, 5, 1, 1, 1, 5, 2, 1, 1, 1, 5, 1, 1, 1, 4, 4, 2, 1, 1, 1, 1, 1, 1, 1, 3, 1, 1, 4, 4, 1, 4, 1, 1, 5, 3, 1, 1, 1, 5, 2, 2, 4, 2, 1, 1, 3, 1, 5, 5, 1, 1, 1, 4, 1, 5, 1, 1, 1, 4, 3, 3, 3, 1, 3, 1, 5, 1, 4, 2, 1, 1, 5, 1, 1, 1, 5, 5, 1, 1, 2, 1, 1, 1, 3, 1, 1, 1, 2, 3, 1, 2, 2, 3, 1, 3, 1, 1, 4, 1, 1, 2, 1, 1, 1, 1, 3, 5, 1, 1, 2, 1, 1, 1, 4, 1, 1, 1, 1, 1, 2, 4, 1, 1, 5, 3, 1, 1, 1, 2, 2, 2, 1, 5, 1, 3, 5, 3, 1, 1, 4, 1, 1, 4]\n"
     ]
    }
   ],
   "source": [
    "# Read input\n",
    "fish_list = []\n",
    "with open(\"inputs/day6.txt\") as input_file:\n",
    "    fish_list = list(map(int, (input_file.read().split(\",\"))))\n",
    "\n",
    "print(fish_list)"
   ]
  },
  {
   "cell_type": "code",
   "execution_count": 25,
   "metadata": {},
   "outputs": [],
   "source": [
    "# Function generates a full day cycle for the fishes\n",
    "def new_day_for_fishes(fish_list):\n",
    "    fish_len = len(fish_list)\n",
    "    for i in range(fish_len):\n",
    "        if fish_list[i] > 0:\n",
    "            fish_list[i] = fish_list[i] - 1\n",
    "        else :\n",
    "            fish_list[i] = 6\n",
    "            fish_list.append(8)\n",
    "    return fish_list"
   ]
  },
  {
   "cell_type": "code",
   "execution_count": 26,
   "metadata": {},
   "outputs": [
    {
     "name": "stdout",
     "output_type": "stream",
     "text": [
      "380758\n"
     ]
    }
   ],
   "source": [
    "# Simulate a number of days and print the number of fishes after that\n",
    "fish_list_calc = deepcopy(fish_list)\n",
    "for i in range(80):\n",
    "    fish_list_calc = new_day_for_fishes(fish_list_calc)\n",
    "print(len(fish_list_calc))"
   ]
  },
  {
   "cell_type": "markdown",
   "metadata": {},
   "source": [
    "## Part 2"
   ]
  },
  {
   "cell_type": "code",
   "execution_count": 27,
   "metadata": {},
   "outputs": [
    {
     "name": "stdout",
     "output_type": "stream",
     "text": [
      "[0, 175, 33, 32, 28, 32, 0, 0, 0]\n"
     ]
    }
   ],
   "source": [
    "# Count the number of fishes in each category\n",
    "fishes_classes_list = [0, 0, 0, 0, 0, 0, 0, 0, 0]\n",
    "for fish in fish_list:\n",
    "    fishes_classes_list[fish] += 1\n",
    "print(fishes_classes_list)"
   ]
  },
  {
   "cell_type": "code",
   "execution_count": 28,
   "metadata": {},
   "outputs": [
    {
     "name": "stdout",
     "output_type": "stream",
     "text": [
      "1710623015163\n"
     ]
    }
   ],
   "source": [
    "# Simulate a number of days and print the number of fishes after that\n",
    "for i in range(256):\n",
    "    new_fishes_count = fishes_classes_list[0]\n",
    "    fishes_classes_list.pop(0)\n",
    "    fishes_classes_list[6] += new_fishes_count\n",
    "    fishes_classes_list.append(new_fishes_count)\n",
    "print(sum(fishes_classes_list))\n"
   ]
  }
 ],
 "metadata": {
  "interpreter": {
   "hash": "4228ddcd0a82f54c4538205b16c58d70509585584f482044ac6563759e3f1fa3"
  },
  "kernelspec": {
   "display_name": "Python 3.9.9 64-bit ('virt': venv)",
   "name": "python3"
  },
  "language_info": {
   "codemirror_mode": {
    "name": "ipython",
    "version": 3
   },
   "file_extension": ".py",
   "mimetype": "text/x-python",
   "name": "python",
   "nbconvert_exporter": "python",
   "pygments_lexer": "ipython3",
   "version": "3.9.9"
  },
  "orig_nbformat": 4
 },
 "nbformat": 4,
 "nbformat_minor": 2
}
